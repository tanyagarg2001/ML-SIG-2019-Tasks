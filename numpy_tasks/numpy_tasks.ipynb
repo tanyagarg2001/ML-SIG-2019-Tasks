{
 "cells": [
  {
   "cell_type": "markdown",
   "metadata": {},
   "source": [
    "# Question 1:\n",
    "### Make a 9x9 numpy array filled with the repeating pattern 1,2,3,1,2,3,..."
   ]
  },
  {
   "cell_type": "code",
   "execution_count": 7,
   "metadata": {
    "scrolled": true
   },
   "outputs": [
    {
     "name": "stdout",
     "output_type": "stream",
     "text": [
      "[[1. 2. 3. 1. 2. 3. 1. 2. 3.]\n",
      " [1. 2. 3. 1. 2. 3. 1. 2. 3.]\n",
      " [1. 2. 3. 1. 2. 3. 1. 2. 3.]\n",
      " [1. 2. 3. 1. 2. 3. 1. 2. 3.]\n",
      " [1. 2. 3. 1. 2. 3. 1. 2. 3.]\n",
      " [1. 2. 3. 1. 2. 3. 1. 2. 3.]\n",
      " [1. 2. 3. 1. 2. 3. 1. 2. 3.]\n",
      " [1. 2. 3. 1. 2. 3. 1. 2. 3.]\n",
      " [1. 2. 3. 1. 2. 3. 1. 2. 3.]]\n"
     ]
    }
   ],
   "source": [
    "# Answer 1\n",
    "import numpy as np\n",
    "x = np.zeros((9,9))\n",
    "for i in range(0,9) :\n",
    "    for j in range(0,9) :\n",
    "        x[i][j] = 1 + (j%3)\n",
    "print(x)"
   ]
  },
  {
   "cell_type": "markdown",
   "metadata": {},
   "source": [
    "# Question 2:\n",
    "### Write a function that performs min-max scaling on a numpy array across rows \n",
    "\n",
    "## Example:\n",
    "\n",
    "### Input \n",
    "$\\begin{bmatrix}1& 2& 3\\\\10 & 15 & 20 \\\\ -5 & -11&  9\\end{bmatrix}$\n",
    "    \n",
    "### Output\n",
    "$\\begin{bmatrix} 0 & 0.5 & 1 \\\\ 0 & 0.5 & 1 \\\\ 0.3 & 0 & 1 \\end{bmatrix}$\n"
   ]
  },
  {
   "cell_type": "code",
   "execution_count": 19,
   "metadata": {},
   "outputs": [
    {
     "name": "stdout",
     "output_type": "stream",
     "text": [
      "[[0.  0.5 1. ]\n",
      " [0.  0.5 1. ]\n",
      " [0.3 0.  1. ]]\n"
     ]
    }
   ],
   "source": [
    "# Answer 2 - using for loops\n",
    "import numpy as np\n",
    "\n",
    "def scalingWithFor() :\n",
    "    arr = np.array([[1,2,3],[10,15,20],[-5,-11,9]]) \n",
    "    brr = np.empty_like(arr, dtype = np.float64)\n",
    "    for i in range(np.size(arr,0)) :\n",
    "        minimum = min(arr[i])\n",
    "        maximum = max(arr[i])\n",
    "        for j in range(np.size(arr,1)) :\n",
    "            brr[i][j] = (arr[i][j] - minimum)/(maximum-minimum)\n",
    "    print(brr)\n",
    "    \n",
    "scalingWithFor()"
   ]
  },
  {
   "cell_type": "code",
   "execution_count": 37,
   "metadata": {},
   "outputs": [
    {
     "name": "stdout",
     "output_type": "stream",
     "text": [
      "[[0.  0.5 1. ]\n",
      " [0.  0.5 1. ]\n",
      " [0.3 0.  1. ]]\n"
     ]
    }
   ],
   "source": [
    "# Answer 2 - without using for loops\n",
    "import numpy as np\n",
    "\n",
    "def scalingWithoutFor(arr) :\n",
    "    brr = np.empty_like(arr, dtype = np.float64)\n",
    "    minimum = arr.min(axis=1).reshape(len(arr),1)\n",
    "    maximum = arr.max(axis=1).reshape(len(arr),1)\n",
    "    brr = (arr - minimum)/(maximum - minimum)\n",
    "    print(brr)\n",
    "    \n",
    "arr = np.array([[1,2,3],[10,15,20],[-5,-11,9]])\n",
    "scalingWithoutFor(arr)"
   ]
  },
  {
   "cell_type": "markdown",
   "metadata": {},
   "source": [
    "# Question 3:\n",
    "### Find index of the element of the array which is closest to a given value\n",
    "\n",
    "## Example:\n",
    "\n",
    "### Input \n",
    "$\\begin{bmatrix}4.5& -5& 83\\\\5.11 & 5.25 & 20 \\\\ -5 & 42&  69.99\\end{bmatrix}$\n",
    "    \n",
    "val = 5\n",
    "\n",
    "### Output\n",
    "\n",
    "index = (1, 0)\n"
   ]
  },
  {
   "cell_type": "code",
   "execution_count": 26,
   "metadata": {},
   "outputs": [
    {
     "name": "stdout",
     "output_type": "stream",
     "text": [
      "index = (1,0)\n"
     ]
    }
   ],
   "source": [
    "# Answer 3 - using for loops\n",
    "import numpy as np\n",
    "\n",
    "def closest(arr,value) :\n",
    "    brr = arr - value\n",
    "    brr = np.absolute(brr)\n",
    "    min = brr[0][0]\n",
    "    n=0\n",
    "    m=0\n",
    "    for i in range(np.size(brr,0)) :\n",
    "        for j in range(np.size(arr,1)) :\n",
    "            if(brr[i][j]<min) :\n",
    "                min = brr[i][j]\n",
    "                n=i\n",
    "                m=j\n",
    "    print(f\"index = ({n},{m})\")\n",
    "    \n",
    "x = np.array([[4.5,-5,83],[5.11,5.25,20],[-5,42,9.99]])\n",
    "val = 5\n",
    "closest(x,val)"
   ]
  },
  {
   "cell_type": "code",
   "execution_count": 38,
   "metadata": {},
   "outputs": [
    {
     "name": "stdout",
     "output_type": "stream",
     "text": [
      "index = (1,0)\n"
     ]
    }
   ],
   "source": [
    "# Answer 3 - without using for loops\n",
    "import numpy as np\n",
    "\n",
    "def closest(arr,value) :\n",
    "    brr = arr - value\n",
    "    brr = np.absolute(brr)\n",
    "    r,c=np.where(brr==np.min(brr))\n",
    "    print(f\"index = ({r[0]},{c[0]})\")\n",
    "    \n",
    "x = np.array([[4.5,-5,83],[5.11,5.25,20],[-5,42,9.99]])\n",
    "val = 5\n",
    "closest(x,val)"
   ]
  },
  {
   "cell_type": "markdown",
   "metadata": {},
   "source": [
    "# Question 4:\n",
    "### Implement A sliding window average of a given array\n",
    "\n",
    "Example: https://www.youtube.com/watch?v=ZoaEDbivmOE"
   ]
  },
  {
   "cell_type": "code",
   "execution_count": 6,
   "metadata": {},
   "outputs": [
    {
     "name": "stdout",
     "output_type": "stream",
     "text": [
      "[[ 0  0  0  0  0  0  0  0  0]\n",
      " [ 0  0 10 20 30 30 20 10  0]\n",
      " [ 0  0 20 30 50 50 40 20  0]\n",
      " [ 0  0 30 50 80 80 60 30  0]\n",
      " [ 0  0 30 50 80 80 60 30  0]\n",
      " [ 0  0 30 60 90 90 60 30  0]\n",
      " [ 0 10 30 40 60 60 40 20  0]\n",
      " [ 0 10 20 20 30 30 20 10  0]\n",
      " [ 0  0  0  0  0  0  0  0  0]\n",
      " [ 0  0  0  0  0  0  0  0  0]]\n"
     ]
    }
   ],
   "source": [
    "# Answer 4 - using for loops\n",
    "import numpy as np\n",
    "\n",
    "def WindowAverage(arr,x,y) :\n",
    "    sum = 0\n",
    "    for i in range(x-1,x+2) :\n",
    "        for j in range(y-1,y+2) :\n",
    "            sum += arr[i][j]\n",
    "    return float(sum/9)\n",
    "    \n",
    "def SlidingWindowAvg(arr) :\n",
    "    brr = np.array(arr)\n",
    "    length = brr.shape[0]\n",
    "    for i in range(1,length-2) :\n",
    "        for j in range(1,length-2) :\n",
    "            brr[i][j] = WindowAverage(arr , i,j)\n",
    "    print(brr)\n",
    "    \n",
    "#Assuming input array is a square matrix and window is a 9x9 matrix\n",
    "array1 = [[0,0, 0,0 ,0, 0, 0, 0,0],\n",
    "     [0,0, 0,0, 0, 0, 0, 0,0],\n",
    "     [0,0, 0,90,90,90,90,0,0],\n",
    "     [0,0, 0,90,0, 90,90,0,0],\n",
    "     [0,0, 0,90,90,90,90,0,0],\n",
    "     [0,0, 0,90,90,90,90,0,0],\n",
    "     [0,0, 0,90,90,90,90,0,0],\n",
    "     [0,90,0,0 ,0, 0, 0, 0,0],\n",
    "     [0,0, 0,0 ,0, 0, 0, 0,0],\n",
    "     [0,0, 0,0 ,0, 0, 0, 0,0],]\n",
    "SlidingWindowAvg(array1)"
   ]
  },
  {
   "cell_type": "markdown",
   "metadata": {},
   "source": [
    "# (Optional) Question 5\n",
    "### Implement John Conway's Game of Life\n",
    "\n",
    "You can read about the rules of the game and play it at: https://bitstorm.org/gameoflife/"
   ]
  },
  {
   "cell_type": "code",
   "execution_count": 12,
   "metadata": {},
   "outputs": [
    {
     "name": "stdout",
     "output_type": "stream",
     "text": [
      "[[1 1 0 0 0 1 1 1 0 0]\n",
      " [1 0 0 0 0 0 0 1 1 0]\n",
      " [0 0 0 0 0 0 1 0 0 0]\n",
      " [1 0 1 0 0 0 0 0 0 0]\n",
      " [0 0 1 0 0 0 0 1 0 0]\n",
      " [1 0 1 0 0 0 0 0 1 1]\n",
      " [1 0 1 0 0 0 0 0 1 1]\n",
      " [1 1 0 0 1 0 0 0 0 0]\n",
      " [0 0 0 1 1 1 0 0 0 0]\n",
      " [1 0 1 1 0 1 1 1 1 1]]\n",
      "[[1 1 0 0 0 1 1 1 0 0]\n",
      " [1 1 0 0 0 1 0 1 1 0]\n",
      " [0 1 0 0 0 0 1 0 0 0]\n",
      " [1 1 1 0 0 0 0 0 0 0]\n",
      " [0 0 1 1 0 0 0 1 0 0]\n",
      " [1 0 1 1 0 0 0 0 1 1]\n",
      " [1 0 1 1 0 0 0 0 1 1]\n",
      " [1 1 0 0 1 0 0 0 0 0]\n",
      " [0 0 0 1 1 1 0 0 0 0]\n",
      " [1 0 1 1 0 1 1 1 1 1]]\n",
      "[[1 1 0 0 0 1 1 1 0 0]\n",
      " [1 0 1 0 0 0 0 1 1 0]\n",
      " [0 0 0 0 0 0 1 0 0 0]\n",
      " [1 0 0 1 0 0 0 0 0 0]\n",
      " [0 0 0 0 0 0 0 1 0 0]\n",
      " [1 0 0 0 1 0 0 0 1 1]\n",
      " [1 0 0 0 1 0 0 0 1 1]\n",
      " [1 1 0 0 1 0 0 0 0 0]\n",
      " [0 0 0 1 1 1 0 0 0 0]\n",
      " [1 0 1 1 0 1 1 1 1 1]]\n",
      "[[1 1 0 0 0 1 1 1 0 0]\n",
      " [1 0 1 0 0 1 0 1 1 0]\n",
      " [0 1 0 0 0 0 1 0 0 0]\n",
      " [1 0 0 0 0 0 0 0 0 0]\n",
      " [0 0 0 0 0 0 0 1 0 0]\n",
      " [1 0 0 0 1 0 0 0 1 1]\n",
      " [1 0 0 1 1 1 0 0 1 1]\n",
      " [1 1 0 0 1 0 0 0 0 0]\n",
      " [0 0 0 1 1 1 0 0 0 0]\n",
      " [1 0 1 1 0 1 1 1 1 1]]\n",
      "[[1 1 0 0 0 1 1 1 0 0]\n",
      " [1 0 1 0 0 0 0 1 1 0]\n",
      " [0 0 0 0 0 0 1 0 0 0]\n",
      " [1 0 0 0 0 0 0 0 0 0]\n",
      " [0 0 0 0 0 0 0 1 0 0]\n",
      " [1 0 0 1 0 1 0 0 1 1]\n",
      " [1 0 0 0 0 0 0 0 1 1]\n",
      " [1 1 0 0 1 0 0 0 0 0]\n",
      " [0 0 0 1 1 1 0 0 0 0]\n",
      " [1 0 1 1 0 1 1 1 1 1]]\n",
      "[[1 1 0 0 0 1 1 1 0 0]\n",
      " [1 0 1 0 0 1 0 1 1 0]\n",
      " [0 1 0 0 0 0 1 0 0 0]\n",
      " [1 0 0 0 0 0 0 0 0 0]\n",
      " [0 0 0 0 0 0 0 1 0 0]\n",
      " [1 0 0 0 0 0 0 0 1 1]\n",
      " [1 0 0 0 1 0 0 0 1 1]\n",
      " [1 1 0 0 1 0 0 0 0 0]\n",
      " [0 0 0 1 1 1 0 0 0 0]\n",
      " [1 0 1 1 0 1 1 1 1 1]]\n",
      "[[1 1 0 0 0 1 1 1 0 0]\n",
      " [1 0 1 0 0 0 0 1 1 0]\n",
      " [0 0 0 0 0 0 1 0 0 0]\n",
      " [1 0 0 0 0 0 0 0 0 0]\n",
      " [0 0 0 0 0 0 0 1 0 0]\n",
      " [1 0 0 0 0 0 0 0 1 1]\n",
      " [1 0 0 0 1 0 0 0 1 1]\n",
      " [1 1 0 0 1 0 0 0 0 0]\n",
      " [0 0 0 1 1 1 0 0 0 0]\n",
      " [1 0 1 1 0 1 1 1 1 1]]\n",
      "[[1 1 0 0 0 1 1 1 0 0]\n",
      " [1 0 1 0 0 1 0 1 1 0]\n",
      " [0 1 0 0 0 0 1 0 0 0]\n",
      " [1 0 0 0 0 0 0 0 0 0]\n",
      " [0 0 0 0 0 0 0 1 0 0]\n",
      " [1 0 0 0 0 0 0 0 1 1]\n",
      " [1 0 0 0 1 0 0 0 1 1]\n",
      " [1 1 0 0 1 0 0 0 0 0]\n",
      " [0 0 0 1 1 1 0 0 0 0]\n",
      " [1 0 1 1 0 1 1 1 1 1]]\n",
      "[[1 1 0 0 0 1 1 1 0 0]\n",
      " [1 0 1 0 0 0 0 1 1 0]\n",
      " [0 0 0 0 0 0 1 0 0 0]\n",
      " [1 0 0 0 0 0 0 0 0 0]\n",
      " [0 0 0 0 0 0 0 1 0 0]\n",
      " [1 0 0 0 0 0 0 0 1 1]\n",
      " [1 0 0 0 1 0 0 0 1 1]\n",
      " [1 1 0 0 1 0 0 0 0 0]\n",
      " [0 0 0 1 1 1 0 0 0 0]\n",
      " [1 0 1 1 0 1 1 1 1 1]]\n",
      "[[1 1 0 0 0 1 1 1 0 0]\n",
      " [1 0 1 0 0 1 0 1 1 0]\n",
      " [0 1 0 0 0 0 1 0 0 0]\n",
      " [1 0 0 0 0 0 0 0 0 0]\n",
      " [0 0 0 0 0 0 0 1 0 0]\n",
      " [1 0 0 0 0 0 0 0 1 1]\n",
      " [1 0 0 0 1 0 0 0 1 1]\n",
      " [1 1 0 0 1 0 0 0 0 0]\n",
      " [0 0 0 1 1 1 0 0 0 0]\n",
      " [1 0 1 1 0 1 1 1 1 1]]\n"
     ]
    }
   ],
   "source": [
    "# Answer 5\n",
    "import numpy as np\n",
    "\n",
    "def CountNeighbours(a , x , y) :\n",
    "    count = np.sum(a[x-1 : x + 2 , y - 1 : y + 2])\n",
    "    return count\n",
    "     \n",
    "arr = np.random.randint(2 , size = (10 , 10))\n",
    "for x in range(0,10) :\n",
    "    brr = arr.copy()\n",
    "    for i in range(1,7) :\n",
    "        for j in range(1,7) :\n",
    "            nbrs = CountNeighbours(brr,i,j)\n",
    "            if arr[i][j] :\n",
    "                if nbrs<2 or nbrs>3 :\n",
    "                    arr[i][j] = 0\n",
    "            elif nbrs == 3 :\n",
    "                arr[i][j] = 1\n",
    "    print(arr)"
   ]
  },
  {
   "cell_type": "markdown",
   "metadata": {},
   "source": [
    "# Final Task \n",
    "## Implement edge detection using a Sobel Filter\n",
    "Read more about Sobel filter : [Wikipedia article](https://en.wikipedia.org/wiki/Sobel_operator \"Sobel Operator\")\n",
    "Some sample code to display the results is already given\n",
    "\n"
   ]
  },
  {
   "cell_type": "code",
   "execution_count": 36,
   "metadata": {},
   "outputs": [
    {
     "data": {
      "image/png": "[encoded data removed]",
      "text/plain": [
       "<Figure size 432x288 with 4 Axes>"
      ]
     },
     "metadata": {
      "needs_background": "light"
     },
     "output_type": "display_data"
    }
   ],
   "source": [
    "%matplotlib inline\n",
    "# Note: DO NOT USE THE SCIPY INBUILT FUNCTION. CONVOLVE USING FILTERS AND NORMALIZE\n",
    "import scipy\n",
    "import imageio\n",
    "import matplotlib.pyplot as plt\n",
    "import numpy as np\n",
    "\n",
    "im = imageio.imread('./fig01.jpg').astype(\"int32\")\n",
    "grey_img = None #convert image to greyscale \n",
    "\n",
    "grey_shape = list(im.shape)\n",
    "grey_shape[-1] = 1\n",
    "grey_shape = tuple(grey_shape)\n",
    "\n",
    "#assert grey_img.shape == grey_shape\n",
    "ax1 = plt.subplot(323)\n",
    "ax2 = plt.subplot(322)\n",
    "ax3 = plt.subplot(324)\n",
    "ax4 = plt.subplot(326)\n",
    "\n",
    "## Initializing the sobel filter\n",
    "filterx = np.array([[3, 0 ,-3],\n",
    "                      [10 , 0 , -10],\n",
    "                      [3, 0 ,-3]])\n",
    "filtery = filterx.T\n",
    "\n",
    "## Fill the code below\n",
    "\n",
    "def Convolate(ker , img , a , b) :\n",
    "    return np.sum([np.multiply(ker,img[a-1:a+2,b-1:b+2])])\n",
    "\n",
    "dx = np.zeros((im.shape[0] - 2 , im.shape[1] - 2))\n",
    "dy = np.zeros((im.shape[0] - 2 , im.shape[1] - 2))\n",
    "for i in range(1 , im.shape[0] - 1) :\n",
    "    for j in range(1 , im.shape[1] - 1) :\n",
    "        dx[i - 1][j - 1] = Convolate(filterx , im , i , j)\n",
    "        dy[i - 1][j - 1] = Convolate(filtery , im , i , j)\n",
    "\n",
    "def scalingWithoutFor(arr) :\n",
    "    brr = np.empty_like(arr, dtype = np.float64)\n",
    "    minimum = arr.min(axis=1).reshape(len(arr),1)\n",
    "    maximum = arr.max(axis=1).reshape(len(arr),1)\n",
    "    brr = (arr - minimum)/(maximum - minimum)\n",
    "    return brr\n",
    "\n",
    "mag =  np.sqrt(dx ** 2 + dy ** 2)\n",
    "normalized = scalingWithoutFor(mag) \n",
    "\n",
    "## End\n",
    "## Plot it\n",
    "ax1.imshow(im)\n",
    "ax2.imshow(dx)\n",
    "ax3.imshow(dy)\n",
    "ax4.imshow(normalized)\n",
    "plt.show()"
   ]
  },
  {
   "cell_type": "markdown",
   "metadata": {},
   "source": [
    "# All Done?\n",
    "## Checkout these advanced guides\n",
    "\n",
    "### [Advanced Numpy](https://scipy-lectures.org/advanced/advanced_numpy/index.html)\n",
    "### [Image Processing](https://scipy-lectures.org/advanced/image_processing/index.html)"
   ]
  },
  {
   "cell_type": "code",
   "execution_count": null,
   "metadata": {},
   "outputs": [],
   "source": []
  }
 ],
 "metadata": {
  "kernelspec": {
   "display_name": "Python 3",
   "language": "python",
   "name": "python3"
  },
  "language_info": {
   "codemirror_mode": {
    "name": "ipython",
    "version": 3
   },
   "file_extension": ".py",
   "mimetype": "text/x-python",
   "name": "python",
   "nbconvert_exporter": "python",
   "pygments_lexer": "ipython3",
   "version": "3.6.7"
  }
 },
 "nbformat": 4,
 "nbformat_minor": 2
}
